{
 "cells": [
  {
   "cell_type": "code",
   "execution_count": 4,
   "id": "6b3499cf",
   "metadata": {},
   "outputs": [],
   "source": [
    "import fsspec\n",
    "import pandas as pd"
   ]
  },
  {
   "cell_type": "code",
   "execution_count": 5,
   "id": "063369ae",
   "metadata": {},
   "outputs": [
    {
     "ename": "gaierror",
     "evalue": "[Errno 8] nodename nor servname provided, or not known",
     "output_type": "error",
     "traceback": [
      "\u001b[0;31m---------------------------------------------------------------------------\u001b[0m",
      "\u001b[0;31mgaierror\u001b[0m                                  Traceback (most recent call last)",
      "\u001b[1;32m/Users/coletteberg/Documents/pseudoreference/pseudoref_gff3_prep.ipynb Cell 2\u001b[0m in \u001b[0;36m<cell line: 7>\u001b[0;34m()\u001b[0m\n\u001b[1;32m      <a href='vscode-notebook-cell:/Users/coletteberg/Documents/pseudoreference/pseudoref_gff3_prep.ipynb#W1sZmlsZQ%3D%3D?line=2'>3</a>\u001b[0m user\u001b[39m=\u001b[39m\u001b[39m'\u001b[39m\u001b[39mcolette_berg\u001b[39m\u001b[39m'\u001b[39m\n\u001b[1;32m      <a href='vscode-notebook-cell:/Users/coletteberg/Documents/pseudoreference/pseudoref_gff3_prep.ipynb#W1sZmlsZQ%3D%3D?line=3'>4</a>\u001b[0m pw\u001b[39m=\u001b[39m\u001b[39m'\u001b[39m\u001b[39m50Cabbages\u001b[39m\u001b[39m'\u001b[39m\n\u001b[0;32m----> <a href='vscode-notebook-cell:/Users/coletteberg/Documents/pseudoreference/pseudoref_gff3_prep.ipynb#W1sZmlsZQ%3D%3D?line=6'>7</a>\u001b[0m fs \u001b[39m=\u001b[39m fsspec\u001b[39m.\u001b[39;49mfilesystem(\u001b[39m'\u001b[39;49m\u001b[39mssh\u001b[39;49m\u001b[39m'\u001b[39;49m, host\u001b[39m=\u001b[39;49mhost, port\u001b[39m=\u001b[39;49mport, username\u001b[39m=\u001b[39;49muser, password\u001b[39m=\u001b[39;49mpw)\n",
      "File \u001b[0;32m/opt/miniconda3/lib/python3.9/site-packages/fsspec/registry.py:266\u001b[0m, in \u001b[0;36mfilesystem\u001b[0;34m(protocol, **storage_options)\u001b[0m\n\u001b[1;32m    260\u001b[0m \u001b[39m\"\"\"Instantiate filesystems for given protocol and arguments\u001b[39;00m\n\u001b[1;32m    261\u001b[0m \n\u001b[1;32m    262\u001b[0m \u001b[39m``storage_options`` are specific to the protocol being chosen, and are\u001b[39;00m\n\u001b[1;32m    263\u001b[0m \u001b[39mpassed directly to the class.\u001b[39;00m\n\u001b[1;32m    264\u001b[0m \u001b[39m\"\"\"\u001b[39;00m\n\u001b[1;32m    265\u001b[0m \u001b[39mcls\u001b[39m \u001b[39m=\u001b[39m get_filesystem_class(protocol)\n\u001b[0;32m--> 266\u001b[0m \u001b[39mreturn\u001b[39;00m \u001b[39mcls\u001b[39;49m(\u001b[39m*\u001b[39;49m\u001b[39m*\u001b[39;49mstorage_options)\n",
      "File \u001b[0;32m/opt/miniconda3/lib/python3.9/site-packages/fsspec/spec.py:76\u001b[0m, in \u001b[0;36m_Cached.__call__\u001b[0;34m(cls, *args, **kwargs)\u001b[0m\n\u001b[1;32m     74\u001b[0m     \u001b[39mreturn\u001b[39;00m \u001b[39mcls\u001b[39m\u001b[39m.\u001b[39m_cache[token]\n\u001b[1;32m     75\u001b[0m \u001b[39melse\u001b[39;00m:\n\u001b[0;32m---> 76\u001b[0m     obj \u001b[39m=\u001b[39m \u001b[39msuper\u001b[39;49m()\u001b[39m.\u001b[39;49m\u001b[39m__call__\u001b[39;49m(\u001b[39m*\u001b[39;49margs, \u001b[39m*\u001b[39;49m\u001b[39m*\u001b[39;49mkwargs)\n\u001b[1;32m     77\u001b[0m     \u001b[39m# Setting _fs_token here causes some static linters to complain.\u001b[39;00m\n\u001b[1;32m     78\u001b[0m     obj\u001b[39m.\u001b[39m_fs_token_ \u001b[39m=\u001b[39m token\n",
      "File \u001b[0;32m/opt/miniconda3/lib/python3.9/site-packages/fsspec/implementations/sftp.py:47\u001b[0m, in \u001b[0;36mSFTPFileSystem.__init__\u001b[0;34m(self, host, **ssh_kwargs)\u001b[0m\n\u001b[1;32m     45\u001b[0m \u001b[39mself\u001b[39m\u001b[39m.\u001b[39mhost \u001b[39m=\u001b[39m host\n\u001b[1;32m     46\u001b[0m \u001b[39mself\u001b[39m\u001b[39m.\u001b[39mssh_kwargs \u001b[39m=\u001b[39m ssh_kwargs\n\u001b[0;32m---> 47\u001b[0m \u001b[39mself\u001b[39;49m\u001b[39m.\u001b[39;49m_connect()\n",
      "File \u001b[0;32m/opt/miniconda3/lib/python3.9/site-packages/fsspec/implementations/sftp.py:53\u001b[0m, in \u001b[0;36mSFTPFileSystem._connect\u001b[0;34m(self)\u001b[0m\n\u001b[1;32m     51\u001b[0m \u001b[39mself\u001b[39m\u001b[39m.\u001b[39mclient \u001b[39m=\u001b[39m paramiko\u001b[39m.\u001b[39mSSHClient()\n\u001b[1;32m     52\u001b[0m \u001b[39mself\u001b[39m\u001b[39m.\u001b[39mclient\u001b[39m.\u001b[39mset_missing_host_key_policy(paramiko\u001b[39m.\u001b[39mAutoAddPolicy())\n\u001b[0;32m---> 53\u001b[0m \u001b[39mself\u001b[39;49m\u001b[39m.\u001b[39;49mclient\u001b[39m.\u001b[39;49mconnect(\u001b[39mself\u001b[39;49m\u001b[39m.\u001b[39;49mhost, \u001b[39m*\u001b[39;49m\u001b[39m*\u001b[39;49m\u001b[39mself\u001b[39;49m\u001b[39m.\u001b[39;49mssh_kwargs)\n\u001b[1;32m     54\u001b[0m \u001b[39mself\u001b[39m\u001b[39m.\u001b[39mftp \u001b[39m=\u001b[39m \u001b[39mself\u001b[39m\u001b[39m.\u001b[39mclient\u001b[39m.\u001b[39mopen_sftp()\n",
      "File \u001b[0;32m/opt/miniconda3/lib/python3.9/site-packages/paramiko/client.py:340\u001b[0m, in \u001b[0;36mSSHClient.connect\u001b[0;34m(self, hostname, port, username, password, pkey, key_filename, timeout, allow_agent, look_for_keys, compress, sock, gss_auth, gss_kex, gss_deleg_creds, gss_host, banner_timeout, auth_timeout, gss_trust_dns, passphrase, disabled_algorithms)\u001b[0m\n\u001b[1;32m    338\u001b[0m errors \u001b[39m=\u001b[39m {}\n\u001b[1;32m    339\u001b[0m \u001b[39m# Try multiple possible address families (e.g. IPv4 vs IPv6)\u001b[39;00m\n\u001b[0;32m--> 340\u001b[0m to_try \u001b[39m=\u001b[39m \u001b[39mlist\u001b[39;49m(\u001b[39mself\u001b[39;49m\u001b[39m.\u001b[39;49m_families_and_addresses(hostname, port))\n\u001b[1;32m    341\u001b[0m \u001b[39mfor\u001b[39;00m af, addr \u001b[39min\u001b[39;00m to_try:\n\u001b[1;32m    342\u001b[0m     \u001b[39mtry\u001b[39;00m:\n",
      "File \u001b[0;32m/opt/miniconda3/lib/python3.9/site-packages/paramiko/client.py:203\u001b[0m, in \u001b[0;36mSSHClient._families_and_addresses\u001b[0;34m(self, hostname, port)\u001b[0m\n\u001b[1;32m    195\u001b[0m \u001b[39m\"\"\"\u001b[39;00m\n\u001b[1;32m    196\u001b[0m \u001b[39mYield pairs of address families and addresses to try for connecting.\u001b[39;00m\n\u001b[1;32m    197\u001b[0m \n\u001b[0;32m   (...)\u001b[0m\n\u001b[1;32m    200\u001b[0m \u001b[39m:returns: Yields an iterable of ``(family, address)`` tuples\u001b[39;00m\n\u001b[1;32m    201\u001b[0m \u001b[39m\"\"\"\u001b[39;00m\n\u001b[1;32m    202\u001b[0m guess \u001b[39m=\u001b[39m \u001b[39mTrue\u001b[39;00m\n\u001b[0;32m--> 203\u001b[0m addrinfos \u001b[39m=\u001b[39m socket\u001b[39m.\u001b[39;49mgetaddrinfo(\n\u001b[1;32m    204\u001b[0m     hostname, port, socket\u001b[39m.\u001b[39;49mAF_UNSPEC, socket\u001b[39m.\u001b[39;49mSOCK_STREAM\n\u001b[1;32m    205\u001b[0m )\n\u001b[1;32m    206\u001b[0m \u001b[39mfor\u001b[39;00m (family, socktype, proto, canonname, sockaddr) \u001b[39min\u001b[39;00m addrinfos:\n\u001b[1;32m    207\u001b[0m     \u001b[39mif\u001b[39;00m socktype \u001b[39m==\u001b[39m socket\u001b[39m.\u001b[39mSOCK_STREAM:\n",
      "File \u001b[0;32m/opt/miniconda3/lib/python3.9/socket.py:954\u001b[0m, in \u001b[0;36mgetaddrinfo\u001b[0;34m(host, port, family, type, proto, flags)\u001b[0m\n\u001b[1;32m    951\u001b[0m \u001b[39m# We override this function since we want to translate the numeric family\u001b[39;00m\n\u001b[1;32m    952\u001b[0m \u001b[39m# and socket type values to enum constants.\u001b[39;00m\n\u001b[1;32m    953\u001b[0m addrlist \u001b[39m=\u001b[39m []\n\u001b[0;32m--> 954\u001b[0m \u001b[39mfor\u001b[39;00m res \u001b[39min\u001b[39;00m _socket\u001b[39m.\u001b[39;49mgetaddrinfo(host, port, family, \u001b[39mtype\u001b[39;49m, proto, flags):\n\u001b[1;32m    955\u001b[0m     af, socktype, proto, canonname, sa \u001b[39m=\u001b[39m res\n\u001b[1;32m    956\u001b[0m     addrlist\u001b[39m.\u001b[39mappend((_intenum_converter(af, AddressFamily),\n\u001b[1;32m    957\u001b[0m                      _intenum_converter(socktype, SocketKind),\n\u001b[1;32m    958\u001b[0m                      proto, canonname, sa))\n",
      "\u001b[0;31mgaierror\u001b[0m: [Errno 8] nodename nor servname provided, or not known"
     ]
    }
   ],
   "source": [
    "host='carnation.dbs.umt.edu'\n",
    "port=2229\n",
    "user=''\n",
    "pw=''\n",
    "\n",
    "\n",
    "fs = fsspec.filesystem('ssh', host=host, port=port, username=user, password=pw)"
   ]
  },
  {
   "cell_type": "code",
   "execution_count": 3,
   "id": "c5600a37",
   "metadata": {},
   "outputs": [
    {
     "ename": "NameError",
     "evalue": "name 'fs' is not defined",
     "output_type": "error",
     "traceback": [
      "\u001b[0;31m---------------------------------------------------------------------------\u001b[0m",
      "\u001b[0;31mNameError\u001b[0m                                 Traceback (most recent call last)",
      "\u001b[1;32m/Users/coletteberg/Documents/pseudoreference/pseudoref_gff3_prep.ipynb Cell 3\u001b[0m in \u001b[0;36m<cell line: 1>\u001b[0;34m()\u001b[0m\n\u001b[0;32m----> <a href='vscode-notebook-cell:/Users/coletteberg/Documents/pseudoreference/pseudoref_gff3_prep.ipynb#W2sZmlsZQ%3D%3D?line=0'>1</a>\u001b[0m \u001b[39mwith\u001b[39;00m fs\u001b[39m.\u001b[39mopen(\u001b[39m'\u001b[39m\u001b[39m./YNP_RNA/raw_data/fastqs/Mguttatus_256_v2.0.gene_exons.gff3\u001b[39m\u001b[39m'\u001b[39m) \u001b[39mas\u001b[39;00m f:\n\u001b[1;32m      <a href='vscode-notebook-cell:/Users/coletteberg/Documents/pseudoreference/pseudoref_gff3_prep.ipynb#W2sZmlsZQ%3D%3D?line=1'>2</a>\u001b[0m     df \u001b[39m=\u001b[39m pd\u001b[39m.\u001b[39mread_csv(f, sep\u001b[39m=\u001b[39m\u001b[39m'\u001b[39m\u001b[39m\\t\u001b[39;00m\u001b[39m'\u001b[39m, names\u001b[39m=\u001b[39m[\u001b[39m'\u001b[39m\u001b[39mchromosome\u001b[39m\u001b[39m'\u001b[39m,\u001b[39m'\u001b[39m\u001b[39msource\u001b[39m\u001b[39m'\u001b[39m,\u001b[39m'\u001b[39m\u001b[39mfeature_type\u001b[39m\u001b[39m'\u001b[39m,\u001b[39m'\u001b[39m\u001b[39mstart_pos\u001b[39m\u001b[39m'\u001b[39m,\u001b[39m'\u001b[39m\u001b[39mend_pos\u001b[39m\u001b[39m'\u001b[39m, \u001b[39m'\u001b[39m\u001b[39mscore\u001b[39m\u001b[39m'\u001b[39m,\u001b[39m'\u001b[39m\u001b[39mstrand\u001b[39m\u001b[39m'\u001b[39m,\u001b[39m'\u001b[39m\u001b[39mframe\u001b[39m\u001b[39m'\u001b[39m,\u001b[39m'\u001b[39m\u001b[39mattribute\u001b[39m\u001b[39m'\u001b[39m],skiprows\u001b[39m=\u001b[39m\u001b[39m2\u001b[39m)\n\u001b[1;32m      <a href='vscode-notebook-cell:/Users/coletteberg/Documents/pseudoreference/pseudoref_gff3_prep.ipynb#W2sZmlsZQ%3D%3D?line=3'>4</a>\u001b[0m \u001b[39mwith\u001b[39;00m fs\u001b[39m.\u001b[39mopen(\u001b[39m'\u001b[39m\u001b[39m./YNP_RNA/raw_data/fastqs/Mguttatus_256_v2.0.gene_exons.gff3\u001b[39m\u001b[39m'\u001b[39m) \u001b[39mas\u001b[39;00m f:\n",
      "\u001b[0;31mNameError\u001b[0m: name 'fs' is not defined"
     ]
    }
   ],
   "source": [
    "with fs.open('./YNP_RNA/raw_data/fastqs/Mguttatus_256_v2.0.gene_exons.gff3') as f:\n",
    "    df = pd.read_csv(f, sep='\\t', names=['chromosome','source','feature_type','start_pos','end_pos', 'score','strand','frame','attribute'],skiprows=2)\n",
    "\n",
    "with fs.open('./YNP_RNA/raw_data/fastqs/Mguttatus_256_v2.0.gene_exons.gff3') as f:\n",
    "    df1 = pd.read_csv(f, sep='\\t', names=['chromosome','source','feature_type','start_pos','end_pos', 'score','strand','frame','attribute'],skiprows=2)\n",
    "\n",
    "# string split the attribute tab \n",
    "\n",
    "def append_ah_suffix(df: pd.DataFrame, suffix: str):\n",
    "    ndf = df[df['feature_type'].isin(['mRNA', 'gene'])].attribute.str.split(r'(?<=Name)(.*?)(?=;)',expand=True, regex=True)\n",
    "    df['attribute'][df['feature_type'].isin(['mRNA', 'gene'])] =  ndf.iloc[:,0] + ndf.iloc[:,1] + suffix + ndf.iloc[:,2]\n",
    "    return df \n",
    "\n",
    "df['chromosome'] = df['chromosome'] + '_AHQT'\n",
    "df1['chromosome'] = df1['chromosome'] + '_AHQN'\n",
    "\n",
    "df = append_ah_suffix(df, suffix='_AHQT')\n",
    "d1 = append_ah_suffix(df1, suffix = '_AHQN')\n",
    "\n",
    "\n",
    "frames = [df, df1]\n",
    "df_merge = pd.concat(frames)"
   ]
  },
  {
   "cell_type": "code",
   "execution_count": 92,
   "id": "fa414f85",
   "metadata": {},
   "outputs": [
    {
     "data": {
      "text/plain": [
       "'ID=Migut.A00001.v2.0;Name=Migut.A00001;ancestorIdentifier=mgv1a001726m.g.IM62.v1.1; Name=AHQT'"
      ]
     },
     "execution_count": 92,
     "metadata": {},
     "output_type": "execute_result"
    }
   ],
   "source": [
    "df[df['feature_type'].isin(['mRNA', 'gene'])].attribute.iloc[0]\n",
    "\n"
   ]
  },
  {
   "cell_type": "code",
   "execution_count": 95,
   "id": "e081f3c1",
   "metadata": {},
   "outputs": [],
   "source": []
  },
  {
   "cell_type": "code",
   "execution_count": 99,
   "id": "b77fb6a3",
   "metadata": {},
   "outputs": [
    {
     "data": {
      "text/html": [
       "<div>\n",
       "<style scoped>\n",
       "    .dataframe tbody tr th:only-of-type {\n",
       "        vertical-align: middle;\n",
       "    }\n",
       "\n",
       "    .dataframe tbody tr th {\n",
       "        vertical-align: top;\n",
       "    }\n",
       "\n",
       "    .dataframe thead th {\n",
       "        text-align: right;\n",
       "    }\n",
       "</style>\n",
       "<table border=\"1\" class=\"dataframe\">\n",
       "  <thead>\n",
       "    <tr style=\"text-align: right;\">\n",
       "      <th></th>\n",
       "      <th>0</th>\n",
       "      <th>1</th>\n",
       "      <th>2</th>\n",
       "    </tr>\n",
       "  </thead>\n",
       "  <tbody>\n",
       "    <tr>\n",
       "      <th>0</th>\n",
       "      <td>ID=Migut.A00001.v2.0;Name</td>\n",
       "      <td>=Migut.A00001</td>\n",
       "      <td>;ancestorIdentifier=mgv1a001726m.g.IM62.v1.1; ...</td>\n",
       "    </tr>\n",
       "    <tr>\n",
       "      <th>1</th>\n",
       "      <td>ID=Migut.A00001.1.v2.0;Name</td>\n",
       "      <td>=Migut.A00001.1</td>\n",
       "      <td>;pacid=28939341;longest=1;Parent=Migut.A00001....</td>\n",
       "    </tr>\n",
       "    <tr>\n",
       "      <th>23</th>\n",
       "      <td>ID=Migut.A00002.v2.0;Name</td>\n",
       "      <td>=Migut.A00002</td>\n",
       "      <td>;ancestorIdentifier=mgv1a001184m.g.IM62.v1.1; ...</td>\n",
       "    </tr>\n",
       "    <tr>\n",
       "      <th>24</th>\n",
       "      <td>ID=Migut.A00002.1.v2.0;Name</td>\n",
       "      <td>=Migut.A00002.1</td>\n",
       "      <td>;pacid=28938810;longest=1;Parent=Migut.A00002....</td>\n",
       "    </tr>\n",
       "    <tr>\n",
       "      <th>47</th>\n",
       "      <td>ID=Migut.A00002.2.v2.0;Name</td>\n",
       "      <td>=Migut.A00002.2</td>\n",
       "      <td>;pacid=28938811;longest=0;Parent=Migut.A00002....</td>\n",
       "    </tr>\n",
       "    <tr>\n",
       "      <th>...</th>\n",
       "      <td>...</td>\n",
       "      <td>...</td>\n",
       "      <td>...</td>\n",
       "    </tr>\n",
       "    <tr>\n",
       "      <th>489177</th>\n",
       "      <td>ID=Migut.O00655.1.v2.0;Name</td>\n",
       "      <td>=Migut.O00655.1</td>\n",
       "      <td>;pacid=28950645;longest=1;Parent=Migut.O00655....</td>\n",
       "    </tr>\n",
       "    <tr>\n",
       "      <th>489184</th>\n",
       "      <td>ID=Migut.O00656.v2.0;Name</td>\n",
       "      <td>=Migut.O00656</td>\n",
       "      <td>; Name=AHQT</td>\n",
       "    </tr>\n",
       "    <tr>\n",
       "      <th>489185</th>\n",
       "      <td>ID=Migut.O00656.1.v2.0;Name</td>\n",
       "      <td>=Migut.O00656.1</td>\n",
       "      <td>;pacid=28948024;longest=1;Parent=Migut.O00656....</td>\n",
       "    </tr>\n",
       "    <tr>\n",
       "      <th>489190</th>\n",
       "      <td>ID=Migut.O00657.v2.0;Name</td>\n",
       "      <td>=Migut.O00657</td>\n",
       "      <td>; Name=AHQT</td>\n",
       "    </tr>\n",
       "    <tr>\n",
       "      <th>489191</th>\n",
       "      <td>ID=Migut.O00657.1.v2.0;Name</td>\n",
       "      <td>=Migut.O00657.1</td>\n",
       "      <td>;pacid=28950610;longest=1;Parent=Migut.O00657....</td>\n",
       "    </tr>\n",
       "  </tbody>\n",
       "</table>\n",
       "<p>61713 rows × 3 columns</p>\n",
       "</div>"
      ],
      "text/plain": [
       "                                  0                1  \\\n",
       "0         ID=Migut.A00001.v2.0;Name    =Migut.A00001   \n",
       "1       ID=Migut.A00001.1.v2.0;Name  =Migut.A00001.1   \n",
       "23        ID=Migut.A00002.v2.0;Name    =Migut.A00002   \n",
       "24      ID=Migut.A00002.1.v2.0;Name  =Migut.A00002.1   \n",
       "47      ID=Migut.A00002.2.v2.0;Name  =Migut.A00002.2   \n",
       "...                             ...              ...   \n",
       "489177  ID=Migut.O00655.1.v2.0;Name  =Migut.O00655.1   \n",
       "489184    ID=Migut.O00656.v2.0;Name    =Migut.O00656   \n",
       "489185  ID=Migut.O00656.1.v2.0;Name  =Migut.O00656.1   \n",
       "489190    ID=Migut.O00657.v2.0;Name    =Migut.O00657   \n",
       "489191  ID=Migut.O00657.1.v2.0;Name  =Migut.O00657.1   \n",
       "\n",
       "                                                        2  \n",
       "0       ;ancestorIdentifier=mgv1a001726m.g.IM62.v1.1; ...  \n",
       "1       ;pacid=28939341;longest=1;Parent=Migut.A00001....  \n",
       "23      ;ancestorIdentifier=mgv1a001184m.g.IM62.v1.1; ...  \n",
       "24      ;pacid=28938810;longest=1;Parent=Migut.A00002....  \n",
       "47      ;pacid=28938811;longest=0;Parent=Migut.A00002....  \n",
       "...                                                   ...  \n",
       "489177  ;pacid=28950645;longest=1;Parent=Migut.O00655....  \n",
       "489184                                        ; Name=AHQT  \n",
       "489185  ;pacid=28948024;longest=1;Parent=Migut.O00656....  \n",
       "489190                                        ; Name=AHQT  \n",
       "489191  ;pacid=28950610;longest=1;Parent=Migut.O00657....  \n",
       "\n",
       "[61713 rows x 3 columns]"
      ]
     },
     "execution_count": 99,
     "metadata": {},
     "output_type": "execute_result"
    }
   ],
   "source": [
    "ndf"
   ]
  },
  {
   "cell_type": "code",
   "execution_count": 100,
   "id": "2c817d8f",
   "metadata": {},
   "outputs": [
    {
     "data": {
      "text/plain": [
       "0         ID=Migut.A00001.v2.0;Name=Migut.A00001_AHQT;an...\n",
       "1         ID=Migut.A00001.1.v2.0;Name=Migut.A00001.1_AHQ...\n",
       "23        ID=Migut.A00002.v2.0;Name=Migut.A00002_AHQT;an...\n",
       "24        ID=Migut.A00002.1.v2.0;Name=Migut.A00002.1_AHQ...\n",
       "47        ID=Migut.A00002.2.v2.0;Name=Migut.A00002.2_AHQ...\n",
       "                                ...                        \n",
       "489177    ID=Migut.O00655.1.v2.0;Name=Migut.O00655.1_AHQ...\n",
       "489184    ID=Migut.O00656.v2.0;Name=Migut.O00656_AHQT; N...\n",
       "489185    ID=Migut.O00656.1.v2.0;Name=Migut.O00656.1_AHQ...\n",
       "489190    ID=Migut.O00657.v2.0;Name=Migut.O00657_AHQT; N...\n",
       "489191    ID=Migut.O00657.1.v2.0;Name=Migut.O00657.1_AHQ...\n",
       "Length: 61713, dtype: object"
      ]
     },
     "execution_count": 100,
     "metadata": {},
     "output_type": "execute_result"
    }
   ],
   "source": []
  },
  {
   "cell_type": "markdown",
   "id": "935fe82f",
   "metadata": {},
   "source": [
    "- in attribute column\n",
    "- append ahqt or ahqn\n",
    "- after Name=<entry>\n",
    "- some rows do not have name\n",
    "- if row is missing Name:\n",
    "  - pass\n",
    "\n",
    "# only mRNA and genes have names "
   ]
  },
  {
   "cell_type": "code",
   "execution_count": 22,
   "id": "1ee41ea1",
   "metadata": {},
   "outputs": [
    {
     "data": {
      "text/plain": [
       "array(['gene', 'mRNA', 'exon', 'CDS', 'five_prime_UTR', 'three_prime_UTR'],\n",
       "      dtype=object)"
      ]
     },
     "execution_count": 22,
     "metadata": {},
     "output_type": "execute_result"
    }
   ],
   "source": [
    "df_merge.feature_type.unique()"
   ]
  },
  {
   "cell_type": "code",
   "execution_count": 18,
   "id": "bd6150b9",
   "metadata": {},
   "outputs": [],
   "source": [
    "with fs.open('./YNP_RNA/pseudo.gff3', 'w') as fp: \n",
    "   fp.write('##gff-version 3\\n##annot-version v2.0\\n')\n",
    "   df_merge.to_csv(fp, sep='\\t', index=False, header=False)\n",
    "\n",
    "\n",
    "\n"
   ]
  }
 ],
 "metadata": {
  "kernelspec": {
   "display_name": "Python 3.9.12 ('base')",
   "language": "python",
   "name": "python3"
  },
  "language_info": {
   "codemirror_mode": {
    "name": "ipython",
    "version": 3
   },
   "file_extension": ".py",
   "mimetype": "text/x-python",
   "name": "python",
   "nbconvert_exporter": "python",
   "pygments_lexer": "ipython3",
   "version": "3.9.12"
  },
  "vscode": {
   "interpreter": {
    "hash": "3d597f4c481aa0f25dceb95d2a0067e73c0966dcbd003d741d821a7208527ecf"
   }
  }
 },
 "nbformat": 4,
 "nbformat_minor": 5
}
