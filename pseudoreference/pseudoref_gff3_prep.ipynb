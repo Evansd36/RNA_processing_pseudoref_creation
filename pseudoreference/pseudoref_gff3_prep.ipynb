{
 "cells": [
  {
   "cell_type": "code",
   "execution_count": 1,
   "id": "6b3499cf",
   "metadata": {},
   "outputs": [],
   "source": [
    "import fsspec\n",
    "import pandas as pd"
   ]
  },
  {
   "cell_type": "code",
   "execution_count": 2,
   "id": "063369ae",
   "metadata": {},
   "outputs": [],
   "source": [
    "host='carnation.dbs.umt.edu'\n",
    "port=2229\n",
    "user=''\n",
    "pw=''\n",
    "\n",
    "\n",
    "fs = fsspec.filesystem('ssh', host=host, port=port, username=user, password=pw)"
   ]
  },
  {
   "cell_type": "code",
   "execution_count": 3,
   "id": "c5600a37",
   "metadata": {},
   "outputs": [
    {
     "name": "stderr",
     "output_type": "stream",
     "text": [
      "/var/folders/d0/88jy7tpj3f56hk881nnmn_6r0000gn/T/ipykernel_88747/2598409965.py:11: SettingWithCopyWarning: \n",
      "A value is trying to be set on a copy of a slice from a DataFrame\n",
      "\n",
      "See the caveats in the documentation: https://pandas.pydata.org/pandas-docs/stable/user_guide/indexing.html#returning-a-view-versus-a-copy\n",
      "  df['attribute'][df['feature_type'].isin(['mRNA', 'gene'])] =  ndf.iloc[:,0] + ndf.iloc[:,1] + suffix + ndf.iloc[:,2]\n"
     ]
    }
   ],
   "source": [
    "with fs.open('./YNP_RNA/raw_data/fastqs/Mguttatus_256_v2.0.gene_exons.gff3') as f:\n",
    "    df = pd.read_csv(f, sep='\\t', names=['chromosome','source','feature_type','start_pos','end_pos', 'score','strand','frame','attribute'],skiprows=2)\n",
    "\n",
    "with fs.open('./YNP_RNA/raw_data/fastqs/Mguttatus_256_v2.0.gene_exons.gff3') as f:\n",
    "    df1 = pd.read_csv(f, sep='\\t', names=['chromosome','source','feature_type','start_pos','end_pos', 'score','strand','frame','attribute'],skiprows=2)\n",
    "\n",
    "# string split the attribute tab \n",
    "\n",
    "def append_ah_suffix(df: pd.DataFrame, suffix: str):\n",
    "    ndf = df[df['feature_type'].isin(['mRNA', 'gene'])].attribute.str.split(r'(?<=Name)(.*?)(?=;)',expand=True, regex=True)\n",
    "    df['attribute'][df['feature_type'].isin(['mRNA', 'gene'])] =  ndf.iloc[:,0] + ndf.iloc[:,1] + suffix + ndf.iloc[:,2]\n",
    "    return df \n",
    "\n",
    "df['chromosome'] = df['chromosome'] + '_AHQT'\n",
    "df1['chromosome'] = df1['chromosome'] + '_AHQN'\n",
    "\n",
    "df = append_ah_suffix(df, suffix='_AHQT')\n",
    "d1 = append_ah_suffix(df1, suffix = '_AHQN')\n",
    "\n",
    "\n",
    "frames = [df, df1]\n",
    "df_merge = pd.concat(frames)"
   ]
  },
  {
   "cell_type": "code",
   "execution_count": 4,
   "id": "bd6150b9",
   "metadata": {},
   "outputs": [],
   "source": [
    "with fs.open('./YNP_RNA/pseudo.gff3', 'w') as fp: \n",
    "   fp.write('##gff-version 3\\n##annot-version v2.0\\n')\n",
    "   df_merge.to_csv(fp, sep='\\t', index=False, header=False)\n",
    "\n",
    "\n",
    "\n"
   ]
  },
  {
   "cell_type": "code",
   "execution_count": null,
   "id": "14274b38",
   "metadata": {},
   "outputs": [],
   "source": []
  }
 ],
 "metadata": {
  "kernelspec": {
   "display_name": "Python 3.9.12 ('base')",
   "language": "python",
   "name": "python3"
  },
  "language_info": {
   "codemirror_mode": {
    "name": "ipython",
    "version": 3
   },
   "file_extension": ".py",
   "mimetype": "text/x-python",
   "name": "python",
   "nbconvert_exporter": "python",
   "pygments_lexer": "ipython3",
   "version": "3.9.12"
  },
  "vscode": {
   "interpreter": {
    "hash": "3d597f4c481aa0f25dceb95d2a0067e73c0966dcbd003d741d821a7208527ecf"
   }
  }
 },
 "nbformat": 4,
 "nbformat_minor": 5
}
